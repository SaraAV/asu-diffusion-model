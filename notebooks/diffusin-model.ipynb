{
 "cells": [
  {
   "cell_type": "markdown",
   "id": "fa6b1024-4685-4b49-92a8-c49b97ef35ae",
   "metadata": {},
   "source": [
    "# A 1D diffusion model"
   ]
  },
  {
   "cell_type": "markdown",
   "id": "5987c128-75bc-44e6-a69c-956db35c3009",
   "metadata": {},
   "source": [
    "Here we develop a one-dimensional model of difussion. \n",
    "It assumes a constant difussivity. \n",
    "It uses a regular grid. \n",
    "It has a step function for an initial condition.\n",
    "It has fixed boundary conditions."
   ]
  },
  {
   "cell_type": "markdown",
   "id": "8df3a747-ceda-4025-96ae-88a3b2275ff2",
   "metadata": {},
   "source": [
    "Here is the diffusion equation:"
   ]
  },
  {
   "cell_type": "markdown",
   "id": "98376ef8-ef7f-41ae-ab52-f976f08a4fd1",
   "metadata": {},
   "source": [
    "$$ \\frac{\\partial C}{\\partial t} = D\\frac{\\partial^2 C}{\\partial x^2} $$ "
   ]
  },
  {
   "cell_type": "markdown",
   "id": "72b4790b-5fff-4a17-acb3-ad5da9c29985",
   "metadata": {},
   "source": [
    "Here is the dicretized version of the diffusion equation we will solve with our model:"
   ]
  },
  {
   "cell_type": "markdown",
   "id": "05490c11-8fc7-491f-8581-2eb17f90174f",
   "metadata": {},
   "source": [
    "$$ C^{t+1}_x = C^t_x + {D \\Delta t \\over \\Delta x^2} (C^t_{x+1} - 2C^t_x + C^t_{x-1}) $$"
   ]
  },
  {
   "cell_type": "markdown",
   "id": "804992c8-9bfd-455a-9299-f10f0b0f612e",
   "metadata": {},
   "source": [
    "This is the FTCS scheme as described by Slingerland and Kump (2011)"
   ]
  },
  {
   "cell_type": "code",
   "execution_count": null,
   "id": "283cc4d6-ce15-4b03-8587-60a999e01358",
   "metadata": {},
   "outputs": [],
   "source": [
    "import numpy as np\n",
    "import matplotlib.pyplot as plt"
   ]
  },
  {
   "cell_type": "code",
   "execution_count": null,
   "id": "c096a18b-1d4a-4a4d-b9f3-806ad28d96ff",
   "metadata": {},
   "outputs": [],
   "source": [
    "D = 100\n",
    "Lx = 300"
   ]
  },
  {
   "cell_type": "markdown",
   "id": "d6dcd3df-8d82-43c9-bf81-4d5854a16592",
   "metadata": {},
   "source": [
    "Next, set up the model grid using NumPy array"
   ]
  },
  {
   "cell_type": "code",
   "execution_count": null,
   "id": "95fc4e59-6c94-48b1-9cb9-b92c95ebcb21",
   "metadata": {},
   "outputs": [],
   "source": [
    "dx = 0.5 \n",
    "x = np.arange(start=0,stop=Lx,step=dx)\n",
    "nx = len(x)"
   ]
  },
  {
   "cell_type": "code",
   "execution_count": null,
   "id": "1079a5d4-03d4-4ae7-b81f-135b69aab03d",
   "metadata": {},
   "outputs": [],
   "source": [
    "nx"
   ]
  },
  {
   "cell_type": "code",
   "execution_count": null,
   "id": "dd5a827d-718a-4062-8830-5ac0f7833b01",
   "metadata": {},
   "outputs": [],
   "source": [
    "x[0:5]"
   ]
  },
  {
   "cell_type": "markdown",
   "id": "77555f2c-8f1f-4a8e-9e93-7cf4e7ae2a67",
   "metadata": {},
   "source": [
    "Set the initial conditions for the model. The cake C is a step function with a high value of the left, a low value on the right, and a step at the center of the domain"
   ]
  },
  {
   "cell_type": "code",
   "execution_count": null,
   "id": "923a5fe9-10f4-421e-8a09-948c60ceb473",
   "metadata": {},
   "outputs": [],
   "source": [
    "C = np.zeros_like(x)\n",
    "C_left = 500\n",
    "C_right = 0\n",
    "C[x <= Lx / 2] = C_left\n",
    "C[x > Lx / 2] = C_right"
   ]
  },
  {
   "cell_type": "markdown",
   "id": "969a4a31-a01b-4146-bfe3-3a99427c1ee6",
   "metadata": {},
   "source": [
    "Plot the initial profile"
   ]
  },
  {
   "cell_type": "code",
   "execution_count": null,
   "id": "d38bb1f6-5a92-4e05-aa48-9e9016a42522",
   "metadata": {},
   "outputs": [],
   "source": [
    "plt.figure()\n",
    "plt.plot(x,C,\"r\")\n",
    "plt.xlabel(\"x\")\n",
    "plt.ylabel(\"C\")\n",
    "plt.title(\"Initial profile\")"
   ]
  },
  {
   "cell_type": "markdown",
   "id": "5c1d3d54-2cda-49cf-a763-4c33b7742b1a",
   "metadata": {},
   "source": [
    "Set the number of time steps in the model. Calculate a stable time step using stability criterion"
   ]
  },
  {
   "cell_type": "code",
   "execution_count": null,
   "id": "d32d2d18-4d9c-4043-815e-836be7664cfe",
   "metadata": {},
   "outputs": [],
   "source": [
    "nt = 5000\n",
    "dt = 0.5 * dx ** 2 / D"
   ]
  },
  {
   "cell_type": "markdown",
   "id": "5a6f2597-a62a-4777-bd7b-a7c2692d7ab8",
   "metadata": {},
   "source": [
    "Loop over the time steps of the model, solving the diffusion equation using the FTCS scheme shown above. Note the use of the array operations on the variable 'C'. \n",
    "The boundary condition remain fixed in each time step."
   ]
  },
  {
   "cell_type": "code",
   "execution_count": null,
   "id": "3d196bf8-f3d9-4ad8-9276-eff6c3ecd878",
   "metadata": {},
   "outputs": [],
   "source": [
    "for t in range(0,nt):\n",
    "    C[1:-1] += D * dt / dx ** 2 * (C[:-2] - 2*C[1:-1] + C[2:])"
   ]
  },
  {
   "cell_type": "code",
   "execution_count": null,
   "id": "6d81ce63-1ce9-4e85-8130-d1f5437466d7",
   "metadata": {},
   "outputs": [],
   "source": [
    "plt.plot(x,C,\"b\")\n",
    "plt.xlabel(\"x\")\n",
    "plt.ylabel(\"C\")\n",
    "plt.title(\"Final profile\")"
   ]
  },
  {
   "cell_type": "code",
   "execution_count": null,
   "id": "4fc4fb3f-8ed8-48b6-9f7c-48743f5c6996",
   "metadata": {},
   "outputs": [],
   "source": []
  }
 ],
 "metadata": {
  "kernelspec": {
   "display_name": "Ivy",
   "language": "python",
   "name": "ivy"
  },
  "language_info": {
   "codemirror_mode": {
    "name": "ipython",
    "version": 3
   },
   "file_extension": ".py",
   "mimetype": "text/x-python",
   "name": "python",
   "nbconvert_exporter": "python",
   "pygments_lexer": "ipython3",
   "version": "3.13.3"
  }
 },
 "nbformat": 4,
 "nbformat_minor": 5
}
